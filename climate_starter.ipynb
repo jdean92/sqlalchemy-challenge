{
 "cells": [
  {
   "cell_type": "code",
   "execution_count": 1,
   "metadata": {},
   "outputs": [],
   "source": [
    "%matplotlib inline\n",
    "from matplotlib import style\n",
    "style.use('fivethirtyeight')\n",
    "import matplotlib.pyplot as plt"
   ]
  },
  {
   "cell_type": "code",
   "execution_count": 2,
   "metadata": {},
   "outputs": [],
   "source": [
    "import numpy as np\n",
    "import pandas as pd\n",
    "import datetime as dt\n",
    "import json\n",
    "from flask import Flask, jsonify\n",
    "\n"
   ]
  },
  {
   "cell_type": "markdown",
   "metadata": {},
   "source": [
    "# Reflect Tables into SQLAlchemy ORM"
   ]
  },
  {
   "cell_type": "code",
   "execution_count": 3,
   "metadata": {},
   "outputs": [],
   "source": [
    "# Python SQL toolkit and Object Relational Mapper\n",
    "import sqlalchemy\n",
    "from sqlalchemy.ext.automap import automap_base\n",
    "from sqlalchemy.orm import Session\n",
    "from sqlalchemy import create_engine, func, inspect"
   ]
  },
  {
   "cell_type": "code",
   "execution_count": 4,
   "metadata": {},
   "outputs": [],
   "source": [
    "# create engine to hawaii.sqlite\n",
    "engine = create_engine(\"sqlite:///Resources/hawaii.sqlite\")\n",
    "inspector = inspect(engine)"
   ]
  },
  {
   "cell_type": "code",
   "execution_count": 5,
   "metadata": {},
   "outputs": [],
   "source": [
    "# reflect an existing database into a new model\n",
    "Base = automap_base()\n",
    "# reflect the tables\n",
    "Base.prepare(engine, reflect=True)"
   ]
  },
  {
   "cell_type": "code",
   "execution_count": 6,
   "metadata": {},
   "outputs": [
    {
     "data": {
      "text/plain": [
       "['measurement', 'station']"
      ]
     },
     "execution_count": 6,
     "metadata": {},
     "output_type": "execute_result"
    }
   ],
   "source": [
    "# View all of the classes that automap found\n",
    "Base.classes.keys()"
   ]
  },
  {
   "cell_type": "code",
   "execution_count": 7,
   "metadata": {},
   "outputs": [],
   "source": [
    "# Save references to each table.\n",
    "Measurement = Base.classes.measurement\n",
    "Station = Base.classes.station"
   ]
  },
  {
   "cell_type": "code",
   "execution_count": 8,
   "metadata": {},
   "outputs": [],
   "source": [
    "# Create our session (link) from Python to the DB\n",
    "session = Session(engine)"
   ]
  },
  {
   "cell_type": "markdown",
   "metadata": {},
   "source": [
    "# Exploratory Precipitation Analysis"
   ]
  },
  {
   "cell_type": "code",
   "execution_count": 9,
   "metadata": {},
   "outputs": [
    {
     "data": {
      "text/plain": [
       "['measurement', 'station']"
      ]
     },
     "execution_count": 9,
     "metadata": {},
     "output_type": "execute_result"
    }
   ],
   "source": [
    "# Find the most recent date in the data set.\n",
    "inspector.get_table_names()"
   ]
  },
  {
   "cell_type": "code",
   "execution_count": 10,
   "metadata": {},
   "outputs": [
    {
     "name": "stdout",
     "output_type": "stream",
     "text": [
      "id INTEGER\n",
      "station TEXT\n",
      "date TEXT\n",
      "prcp FLOAT\n",
      "tobs FLOAT\n"
     ]
    }
   ],
   "source": [
    "columns = inspector.get_columns('measurement')\n",
    "for c in columns:\n",
    "    print(c['name'], c['type'])"
   ]
  },
  {
   "cell_type": "code",
   "execution_count": 11,
   "metadata": {},
   "outputs": [
    {
     "data": {
      "text/plain": [
       "('2017-08-23')"
      ]
     },
     "execution_count": 11,
     "metadata": {},
     "output_type": "execute_result"
    }
   ],
   "source": [
    "# Design a query to retrieve the last 12 months of precipitation data and plot the results. \n",
    "# Starting from the most recent data point in the database \n",
    "\n",
    "# Calculate the date one year from the last date in data set\n",
    "latest_date=session.query(Measurement.date).order_by(Measurement.date.desc()).first()\n",
    "latest_date\n"
   ]
  },
  {
   "cell_type": "code",
   "execution_count": 12,
   "metadata": {},
   "outputs": [
    {
     "name": "stdout",
     "output_type": "stream",
     "text": [
      "2016-08-23\n"
     ]
    }
   ],
   "source": [
    "# Calculate the date one year from the last date in data set.\n",
    "date_year_ago = dt.date(2017, 8, 23)-dt.timedelta(days=365)\n",
    "print(date_year_ago)"
   ]
  },
  {
   "cell_type": "code",
   "execution_count": 13,
   "metadata": {},
   "outputs": [],
   "source": [
    "\n",
    "# Perform a query to retrieve the data and precipitation scores\n",
    "result=session.query(Measurement.date, Measurement.prcp).filter(Measurement.date >= date_year_ago).all()"
   ]
  },
  {
   "cell_type": "code",
   "execution_count": 14,
   "metadata": {},
   "outputs": [
    {
     "data": {
      "text/html": [
       "<div>\n",
       "<style scoped>\n",
       "    .dataframe tbody tr th:only-of-type {\n",
       "        vertical-align: middle;\n",
       "    }\n",
       "\n",
       "    .dataframe tbody tr th {\n",
       "        vertical-align: top;\n",
       "    }\n",
       "\n",
       "    .dataframe thead th {\n",
       "        text-align: right;\n",
       "    }\n",
       "</style>\n",
       "<table border=\"1\" class=\"dataframe\">\n",
       "  <thead>\n",
       "    <tr style=\"text-align: right;\">\n",
       "      <th></th>\n",
       "      <th>date</th>\n",
       "      <th>prcp</th>\n",
       "    </tr>\n",
       "  </thead>\n",
       "  <tbody>\n",
       "    <tr>\n",
       "      <th>0</th>\n",
       "      <td>2016-08-23</td>\n",
       "      <td>0.00</td>\n",
       "    </tr>\n",
       "    <tr>\n",
       "      <th>1</th>\n",
       "      <td>2016-08-24</td>\n",
       "      <td>0.08</td>\n",
       "    </tr>\n",
       "    <tr>\n",
       "      <th>2</th>\n",
       "      <td>2016-08-25</td>\n",
       "      <td>0.08</td>\n",
       "    </tr>\n",
       "    <tr>\n",
       "      <th>3</th>\n",
       "      <td>2016-08-26</td>\n",
       "      <td>0.00</td>\n",
       "    </tr>\n",
       "    <tr>\n",
       "      <th>4</th>\n",
       "      <td>2016-08-27</td>\n",
       "      <td>0.00</td>\n",
       "    </tr>\n",
       "  </tbody>\n",
       "</table>\n",
       "</div>"
      ],
      "text/plain": [
       "         date  prcp\n",
       "0  2016-08-23  0.00\n",
       "1  2016-08-24  0.08\n",
       "2  2016-08-25  0.08\n",
       "3  2016-08-26  0.00\n",
       "4  2016-08-27  0.00"
      ]
     },
     "execution_count": 14,
     "metadata": {},
     "output_type": "execute_result"
    }
   ],
   "source": [
    "# Save the query results as a Pandas DataFrame and set the index to the date column\n",
    "df = pd.DataFrame(result)\n",
    "df.set_index('date')\n",
    "df=df.dropna()\n",
    "df.head()"
   ]
  },
  {
   "cell_type": "code",
   "execution_count": 15,
   "metadata": {},
   "outputs": [
    {
     "data": {
      "text/html": [
       "<div>\n",
       "<style scoped>\n",
       "    .dataframe tbody tr th:only-of-type {\n",
       "        vertical-align: middle;\n",
       "    }\n",
       "\n",
       "    .dataframe tbody tr th {\n",
       "        vertical-align: top;\n",
       "    }\n",
       "\n",
       "    .dataframe thead th {\n",
       "        text-align: right;\n",
       "    }\n",
       "</style>\n",
       "<table border=\"1\" class=\"dataframe\">\n",
       "  <thead>\n",
       "    <tr style=\"text-align: right;\">\n",
       "      <th></th>\n",
       "      <th>date</th>\n",
       "      <th>prcp</th>\n",
       "    </tr>\n",
       "  </thead>\n",
       "  <tbody>\n",
       "    <tr>\n",
       "      <th>0</th>\n",
       "      <td>2016-08-23</td>\n",
       "      <td>0.00</td>\n",
       "    </tr>\n",
       "    <tr>\n",
       "      <th>1192</th>\n",
       "      <td>2016-08-23</td>\n",
       "      <td>0.02</td>\n",
       "    </tr>\n",
       "    <tr>\n",
       "      <th>704</th>\n",
       "      <td>2016-08-23</td>\n",
       "      <td>0.05</td>\n",
       "    </tr>\n",
       "    <tr>\n",
       "      <th>1881</th>\n",
       "      <td>2016-08-23</td>\n",
       "      <td>0.70</td>\n",
       "    </tr>\n",
       "    <tr>\n",
       "      <th>361</th>\n",
       "      <td>2016-08-23</td>\n",
       "      <td>0.15</td>\n",
       "    </tr>\n",
       "  </tbody>\n",
       "</table>\n",
       "</div>"
      ],
      "text/plain": [
       "            date  prcp\n",
       "0     2016-08-23  0.00\n",
       "1192  2016-08-23  0.02\n",
       "704   2016-08-23  0.05\n",
       "1881  2016-08-23  0.70\n",
       "361   2016-08-23  0.15"
      ]
     },
     "execution_count": 15,
     "metadata": {},
     "output_type": "execute_result"
    }
   ],
   "source": [
    "# Sort the dataframe by date\n",
    "df = df.sort_values(\"date\")\n",
    "df.head()\n"
   ]
  },
  {
   "cell_type": "code",
   "execution_count": 16,
   "metadata": {},
   "outputs": [
    {
     "data": {
      "image/png": "[encoded data removed]",
      "text/plain": [
       "<Figure size 432x288 with 1 Axes>"
      ]
     },
     "metadata": {
      "needs_background": "light"
     },
     "output_type": "display_data"
    }
   ],
   "source": [
    "# Use Pandas Plotting with Matplotlib to plot the data\n",
    "df.plot('date', 'prcp')\n",
    "plt.ylim(0,7)\n",
    "plt.xlabel(\"Date\")\n",
    "plt.ylabel(\"Rain in Inches\")\n",
    "plt.title(\"Precipitation Analysis\")\n",
    "plt.legend([\"Precipitation\"])\n",
    "plt.xticks(rotation=90)\n",
    "plt.show()"
   ]
  },
  {
   "cell_type": "code",
   "execution_count": 17,
   "metadata": {},
   "outputs": [
    {
     "data": {
      "text/html": [
       "<div>\n",
       "<style scoped>\n",
       "    .dataframe tbody tr th:only-of-type {\n",
       "        vertical-align: middle;\n",
       "    }\n",
       "\n",
       "    .dataframe tbody tr th {\n",
       "        vertical-align: top;\n",
       "    }\n",
       "\n",
       "    .dataframe thead th {\n",
       "        text-align: right;\n",
       "    }\n",
       "</style>\n",
       "<table border=\"1\" class=\"dataframe\">\n",
       "  <thead>\n",
       "    <tr style=\"text-align: right;\">\n",
       "      <th></th>\n",
       "      <th>prcp</th>\n",
       "    </tr>\n",
       "  </thead>\n",
       "  <tbody>\n",
       "    <tr>\n",
       "      <th>count</th>\n",
       "      <td>2021.000000</td>\n",
       "    </tr>\n",
       "    <tr>\n",
       "      <th>mean</th>\n",
       "      <td>0.177279</td>\n",
       "    </tr>\n",
       "    <tr>\n",
       "      <th>std</th>\n",
       "      <td>0.461190</td>\n",
       "    </tr>\n",
       "    <tr>\n",
       "      <th>min</th>\n",
       "      <td>0.000000</td>\n",
       "    </tr>\n",
       "    <tr>\n",
       "      <th>25%</th>\n",
       "      <td>0.000000</td>\n",
       "    </tr>\n",
       "    <tr>\n",
       "      <th>50%</th>\n",
       "      <td>0.020000</td>\n",
       "    </tr>\n",
       "    <tr>\n",
       "      <th>75%</th>\n",
       "      <td>0.130000</td>\n",
       "    </tr>\n",
       "    <tr>\n",
       "      <th>max</th>\n",
       "      <td>6.700000</td>\n",
       "    </tr>\n",
       "  </tbody>\n",
       "</table>\n",
       "</div>"
      ],
      "text/plain": [
       "              prcp\n",
       "count  2021.000000\n",
       "mean      0.177279\n",
       "std       0.461190\n",
       "min       0.000000\n",
       "25%       0.000000\n",
       "50%       0.020000\n",
       "75%       0.130000\n",
       "max       6.700000"
      ]
     },
     "execution_count": 17,
     "metadata": {},
     "output_type": "execute_result"
    }
   ],
   "source": [
    "# Use Pandas to calcualte the summary statistics for the precipitation data\n",
    "df.describe()"
   ]
  },
  {
   "cell_type": "markdown",
   "metadata": {},
   "source": [
    "# Exploratory Station Analysis"
   ]
  },
  {
   "cell_type": "code",
   "execution_count": 18,
   "metadata": {},
   "outputs": [
    {
     "data": {
      "text/plain": [
       "9"
      ]
     },
     "execution_count": 18,
     "metadata": {},
     "output_type": "execute_result"
    }
   ],
   "source": [
    "# Design a query to calculate the total number stations in the dataset\n",
    "session.query(Measurement.station).group_by(Measurement.station).count()"
   ]
  },
  {
   "cell_type": "code",
   "execution_count": 19,
   "metadata": {},
   "outputs": [
    {
     "data": {
      "text/plain": [
       "[('USC00519281', 2772),\n",
       " ('USC00519397', 2724),\n",
       " ('USC00513117', 2709),\n",
       " ('USC00519523', 2669),\n",
       " ('USC00516128', 2612),\n",
       " ('USC00514830', 2202),\n",
       " ('USC00511918', 1979),\n",
       " ('USC00517948', 1372),\n",
       " ('USC00518838', 511)]"
      ]
     },
     "execution_count": 19,
     "metadata": {},
     "output_type": "execute_result"
    }
   ],
   "source": [
    "# Design a query to find the most active stations (i.e. what stations have the most rows?)\n",
    "# List the stations and the counts in descending order.\n",
    "active_station=session.query(Measurement.station,func.count(Measurement.tobs)).group_by(Measurement.station).order_by(func.count(Measurement.tobs).desc()).all()\n",
    "active_station"
   ]
  },
  {
   "cell_type": "code",
   "execution_count": 20,
   "metadata": {},
   "outputs": [
    {
     "data": {
      "text/plain": [
       "[(54.0, 85.0, 71.66378066378067)]"
      ]
     },
     "execution_count": 20,
     "metadata": {},
     "output_type": "execute_result"
    }
   ],
   "source": [
    "# Using the most active station id from the previous query, calculate the lowest, highest, and average temperature.\n",
    "session.query(func.min(Measurement.tobs),func.max(Measurement.tobs),func.avg(Measurement.tobs)).group_by(Measurement.station).filter(Measurement.station=='USC00519281').all()"
   ]
  },
  {
   "cell_type": "code",
   "execution_count": 21,
   "metadata": {},
   "outputs": [
    {
     "data": {
      "text/plain": [
       "[(77.0),\n",
       " (80.0),\n",
       " (80.0),\n",
       " (75.0),\n",
       " (73.0),\n",
       " (78.0),\n",
       " (77.0),\n",
       " (78.0),\n",
       " (80.0),\n",
       " (80.0),\n",
       " (78.0),\n",
       " (78.0),\n",
       " (78.0),\n",
       " (73.0),\n",
       " (74.0),\n",
       " (80.0),\n",
       " (79.0),\n",
       " (77.0),\n",
       " (80.0),\n",
       " (76.0),\n",
       " (79.0),\n",
       " (75.0),\n",
       " (79.0),\n",
       " (78.0),\n",
       " (79.0),\n",
       " (78.0),\n",
       " (78.0),\n",
       " (76.0),\n",
       " (74.0),\n",
       " (77.0),\n",
       " (78.0),\n",
       " (79.0),\n",
       " (79.0),\n",
       " (77.0),\n",
       " (80.0),\n",
       " (78.0),\n",
       " (78.0),\n",
       " (78.0),\n",
       " (77.0),\n",
       " (79.0),\n",
       " (79.0),\n",
       " (79.0),\n",
       " (79.0),\n",
       " (75.0),\n",
       " (76.0),\n",
       " (73.0),\n",
       " (72.0),\n",
       " (71.0),\n",
       " (77.0),\n",
       " (79.0),\n",
       " (78.0),\n",
       " (79.0),\n",
       " (77.0),\n",
       " (79.0),\n",
       " (77.0),\n",
       " (78.0),\n",
       " (78.0),\n",
       " (78.0),\n",
       " (78.0),\n",
       " (77.0),\n",
       " (74.0),\n",
       " (75.0),\n",
       " (76.0),\n",
       " (73.0),\n",
       " (76.0),\n",
       " (74.0),\n",
       " (77.0),\n",
       " (76.0),\n",
       " (76.0),\n",
       " (74.0),\n",
       " (75.0),\n",
       " (75.0),\n",
       " (75.0),\n",
       " (75.0),\n",
       " (71.0),\n",
       " (63.0),\n",
       " (70.0),\n",
       " (68.0),\n",
       " (67.0),\n",
       " (77.0),\n",
       " (74.0),\n",
       " (77.0),\n",
       " (76.0),\n",
       " (76.0),\n",
       " (75.0),\n",
       " (76.0),\n",
       " (75.0),\n",
       " (73.0),\n",
       " (75.0),\n",
       " (73.0),\n",
       " (75.0),\n",
       " (74.0),\n",
       " (75.0),\n",
       " (74.0),\n",
       " (75.0),\n",
       " (73.0),\n",
       " (75.0),\n",
       " (73.0),\n",
       " (73.0),\n",
       " (74.0),\n",
       " (70.0),\n",
       " (72.0),\n",
       " (70.0),\n",
       " (67.0),\n",
       " (67.0),\n",
       " (69.0),\n",
       " (70.0),\n",
       " (68.0),\n",
       " (69.0),\n",
       " (69.0),\n",
       " (66.0),\n",
       " (65.0),\n",
       " (68.0),\n",
       " (62.0),\n",
       " (75.0),\n",
       " (70.0),\n",
       " (69.0),\n",
       " (76.0),\n",
       " (76.0),\n",
       " (74.0),\n",
       " (73.0),\n",
       " (71.0),\n",
       " (74.0),\n",
       " (74.0),\n",
       " (72.0),\n",
       " (71.0),\n",
       " (72.0),\n",
       " (74.0),\n",
       " (69.0),\n",
       " (67.0),\n",
       " (72.0),\n",
       " (70.0),\n",
       " (64.0),\n",
       " (63.0),\n",
       " (63.0),\n",
       " (62.0),\n",
       " (70.0),\n",
       " (70.0),\n",
       " (62.0),\n",
       " (62.0),\n",
       " (63.0),\n",
       " (65.0),\n",
       " (69.0),\n",
       " (77.0),\n",
       " (70.0),\n",
       " (74.0),\n",
       " (69.0),\n",
       " (72.0),\n",
       " (71.0),\n",
       " (69.0),\n",
       " (71.0),\n",
       " (71.0),\n",
       " (72.0),\n",
       " (72.0),\n",
       " (69.0),\n",
       " (70.0),\n",
       " (66.0),\n",
       " (65.0),\n",
       " (69.0),\n",
       " (68.0),\n",
       " (68.0),\n",
       " (68.0),\n",
       " (59.0),\n",
       " (60.0),\n",
       " (70.0),\n",
       " (73.0),\n",
       " (75.0),\n",
       " (64.0),\n",
       " (59.0),\n",
       " (59.0),\n",
       " (62.0),\n",
       " (68.0),\n",
       " (70.0),\n",
       " (73.0),\n",
       " (79.0),\n",
       " (75.0),\n",
       " (65.0),\n",
       " (70.0),\n",
       " (74.0),\n",
       " (70.0),\n",
       " (70.0),\n",
       " (71.0),\n",
       " (71.0),\n",
       " (71.0),\n",
       " (69.0),\n",
       " (61.0),\n",
       " (67.0),\n",
       " (65.0),\n",
       " (72.0),\n",
       " (71.0),\n",
       " (73.0),\n",
       " (72.0),\n",
       " (77.0),\n",
       " (73.0),\n",
       " (67.0),\n",
       " (62.0),\n",
       " (64.0),\n",
       " (67.0),\n",
       " (66.0),\n",
       " (81.0),\n",
       " (69.0),\n",
       " (66.0),\n",
       " (67.0),\n",
       " (69.0),\n",
       " (66.0),\n",
       " (68.0),\n",
       " (65.0),\n",
       " (74.0),\n",
       " (69.0),\n",
       " (72.0),\n",
       " (73.0),\n",
       " (72.0),\n",
       " (71.0),\n",
       " (76.0),\n",
       " (77.0),\n",
       " (76.0),\n",
       " (74.0),\n",
       " (68.0),\n",
       " (73.0),\n",
       " (71.0),\n",
       " (74.0),\n",
       " (75.0),\n",
       " (70.0),\n",
       " (67.0),\n",
       " (71.0),\n",
       " (67.0),\n",
       " (74.0),\n",
       " (77.0),\n",
       " (78.0),\n",
       " (67.0),\n",
       " (70.0),\n",
       " (69.0),\n",
       " (69.0),\n",
       " (74.0),\n",
       " (78.0),\n",
       " (71.0),\n",
       " (67.0),\n",
       " (68.0),\n",
       " (67.0),\n",
       " (76.0),\n",
       " (69.0),\n",
       " (72.0),\n",
       " (76.0),\n",
       " (68.0),\n",
       " (72.0),\n",
       " (74.0),\n",
       " (70.0),\n",
       " (67.0),\n",
       " (72.0),\n",
       " (60.0),\n",
       " (65.0),\n",
       " (75.0),\n",
       " (70.0),\n",
       " (75.0),\n",
       " (70.0),\n",
       " (79.0),\n",
       " (75.0),\n",
       " (70.0),\n",
       " (67.0),\n",
       " (74.0),\n",
       " (70.0),\n",
       " (75.0),\n",
       " (76.0),\n",
       " (77.0),\n",
       " (74.0),\n",
       " (74.0),\n",
       " (74.0),\n",
       " (69.0),\n",
       " (68.0),\n",
       " (76.0),\n",
       " (74.0),\n",
       " (71.0),\n",
       " (71.0),\n",
       " (74.0),\n",
       " (74.0),\n",
       " (74.0),\n",
       " (74.0),\n",
       " (80.0),\n",
       " (74.0),\n",
       " (72.0),\n",
       " (75.0),\n",
       " (80.0),\n",
       " (76.0),\n",
       " (76.0),\n",
       " (77.0),\n",
       " (75.0),\n",
       " (75.0),\n",
       " (75.0),\n",
       " (75.0),\n",
       " (72.0),\n",
       " (74.0),\n",
       " (74.0),\n",
       " (74.0),\n",
       " (76.0),\n",
       " (74.0),\n",
       " (75.0),\n",
       " (73.0),\n",
       " (79.0),\n",
       " (75.0),\n",
       " (72.0),\n",
       " (72.0),\n",
       " (74.0),\n",
       " (72.0),\n",
       " (72.0),\n",
       " (77.0),\n",
       " (71.0),\n",
       " (73.0),\n",
       " (76.0),\n",
       " (77.0),\n",
       " (76.0),\n",
       " (76.0),\n",
       " (79.0),\n",
       " (81.0),\n",
       " (76.0),\n",
       " (78.0),\n",
       " (77.0),\n",
       " (74.0),\n",
       " (75.0),\n",
       " (78.0),\n",
       " (78.0),\n",
       " (69.0),\n",
       " (72.0),\n",
       " (74.0),\n",
       " (74.0),\n",
       " (76.0),\n",
       " (80.0),\n",
       " (80.0),\n",
       " (76.0),\n",
       " (76.0),\n",
       " (76.0),\n",
       " (77.0),\n",
       " (77.0),\n",
       " (77.0),\n",
       " (82.0),\n",
       " (75.0),\n",
       " (77.0),\n",
       " (75.0),\n",
       " (76.0),\n",
       " (81.0),\n",
       " (82.0),\n",
       " (81.0),\n",
       " (76.0),\n",
       " (77.0),\n",
       " (82.0),\n",
       " (83.0),\n",
       " (77.0),\n",
       " (77.0),\n",
       " (77.0),\n",
       " (76.0),\n",
       " (76.0),\n",
       " (79.0)]"
      ]
     },
     "execution_count": 21,
     "metadata": {},
     "output_type": "execute_result"
    }
   ],
   "source": [
    "# Using the most active station id\n",
    "most_active_station=active_station[0][0]\n",
    "# Query the last 12 months of temperature observation data for this station and plot the results as a histogram\n",
    "tobs_last12=session.query(Measurement.tobs).filter(Measurement.date > date_year_ago).filter(Measurement.station==most_active_station).all()\n",
    "tobs_last12"
   ]
  },
  {
   "cell_type": "code",
   "execution_count": 22,
   "metadata": {},
   "outputs": [
    {
     "data": {
      "image/png": "[encoded data removed]",
      "text/plain": [
       "<Figure size 432x288 with 1 Axes>"
      ]
     },
     "metadata": {
      "needs_background": "light"
     },
     "output_type": "display_data"
    }
   ],
   "source": [
    "#and plot the results as a histogram\n",
    "temp_df=pd.DataFrame(tobs_last12)\n",
    "plt.hist(temp_df['tobs'],12)\n",
    "plt.xlabel(\"Temperature\",fontsize=12)\n",
    "plt.ylabel(\"Frequency\", fontsize=12)\n",
    "plt.title(\"1 Year Temperature for Station USC00519281\",fontsize=12)\n",
    "labels=[\"tobs\"]\n",
    "plt.legend(labels)\n",
    "plt.show()\n"
   ]
  },
  {
   "cell_type": "code",
   "execution_count": null,
   "metadata": {},
   "outputs": [],
   "source": []
  },
  {
   "cell_type": "markdown",
   "metadata": {},
   "source": [
    "# Close session"
   ]
  },
  {
   "cell_type": "code",
   "execution_count": 23,
   "metadata": {},
   "outputs": [],
   "source": [
    "# Close Session\n",
    "session.close()"
   ]
  },
  {
   "cell_type": "code",
   "execution_count": null,
   "metadata": {},
   "outputs": [],
   "source": []
  },
  {
   "cell_type": "code",
   "execution_count": null,
   "metadata": {},
   "outputs": [],
   "source": []
  }
 ],
 "metadata": {
  "anaconda-cloud": {},
  "kernel_info": {
   "name": "python3"
  },
  "kernelspec": {
   "display_name": "Python 3",
   "language": "python",
   "name": "python3"
  },
  "language_info": {
   "codemirror_mode": {
    "name": "ipython",
    "version": 3
   },
   "file_extension": ".py",
   "mimetype": "text/x-python",
   "name": "python",
   "nbconvert_exporter": "python",
   "pygments_lexer": "ipython3",
   "version": "3.6.12"
  },
  "nteract": {
   "version": "0.12.3"
  },
  "varInspector": {
   "cols": {
    "lenName": 16,
    "lenType": 16,
    "lenVar": 40
   },
   "kernels_config": {
    "python": {
     "delete_cmd_postfix": "",
     "delete_cmd_prefix": "del ",
     "library": "var_list.py",
     "varRefreshCmd": "print(var_dic_list())"
    },
    "r": {
     "delete_cmd_postfix": ") ",
     "delete_cmd_prefix": "rm(",
     "library": "var_list.r",
     "varRefreshCmd": "cat(var_dic_list()) "
    }
   },
   "types_to_exclude": [
    "module",
    "function",
    "builtin_function_or_method",
    "instance",
    "_Feature"
   ],
   "window_display": false
  }
 },
 "nbformat": 4,
 "nbformat_minor": 2
}
